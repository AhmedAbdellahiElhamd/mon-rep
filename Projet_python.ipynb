{
 "cells": [
  {
   "cell_type": "code",
   "execution_count": 2,
   "id": "ac53fb74",
   "metadata": {},
   "outputs": [],
   "source": [
    "from tkinter import *\n",
    "root = Tk()\n",
    "mylabel = Label(root, text=\"Hello World\")\n",
    "mylabel.pack()\n",
    "root.mainloop()"
   ]
  },
  {
   "cell_type": "code",
   "execution_count": 41,
   "id": "f11ae506",
   "metadata": {
    "scrolled": true
   },
   "outputs": [
    {
     "name": "stdout",
     "output_type": "stream",
     "text": [
      "0.6758988953370166\n"
     ]
    },
    {
     "data": {
      "text/plain": [
       "-1"
      ]
     },
     "execution_count": 41,
     "metadata": {},
     "output_type": "execute_result"
    }
   ],
   "source": [
    "from random import *\n",
    "\n",
    "def Tirage_jeu_A():\n",
    "    n = random()\n",
    "    print(n)\n",
    "    if  n < 0.49:\n",
    "        v= +1\n",
    "    else:\n",
    "        v= -1\n",
    "    return v\n",
    "Tirage_jeu_A()"
   ]
  },
  {
   "cell_type": "code",
   "execution_count": 43,
   "id": "4844abc3",
   "metadata": {},
   "outputs": [
    {
     "name": "stdout",
     "output_type": "stream",
     "text": [
      "0.8802219906459225\n",
      "-1\n",
      "0.812489088665217\n",
      "-1\n",
      "0.06068110681029526\n",
      "1\n",
      "0.6206584464408232\n",
      "-1\n",
      "0.5579729447582167\n",
      "-1\n",
      "0.423581329329612\n",
      "1\n",
      "0.7886040079784558\n",
      "-1\n",
      "0.25162975001191756\n",
      "1\n",
      "0.7447181945017345\n",
      "-1\n",
      "0.11283548393056697\n",
      "1\n",
      "-2\n"
     ]
    }
   ],
   "source": [
    "from random import *\n",
    "def Gain_jeu_A(N):\n",
    "    GT=0\n",
    "    for i in range(N):\n",
    "        v=Tirage_jeu_A()\n",
    "        print(v)\n",
    "        GT+=v\n",
    "    return GT\n",
    "print(Gain_jeu_A(10))"
   ]
  },
  {
   "cell_type": "code",
   "execution_count": 53,
   "id": "2e748e9d",
   "metadata": {},
   "outputs": [
    {
     "name": "stdout",
     "output_type": "stream",
     "text": [
      "0.7956269786043242\n",
      "-1\n",
      "0.08581095392432958\n",
      "1\n",
      "0.756921764880615\n",
      "-1\n",
      "0.8720993274183133\n",
      "-1\n",
      "0.9582001402952233\n",
      "-1\n"
     ]
    },
    {
     "data": {
      "text/plain": [
       "'E = -0.6'"
      ]
     },
     "execution_count": 53,
     "metadata": {},
     "output_type": "execute_result"
    }
   ],
   "source": [
    "from random import *\n",
    "def Esperence_jeu_A(N):\n",
    "    gt=Gain_jeu_A(N)\n",
    "    E=gt/N\n",
    "    return f\"E = {E}\"\n",
    "Esperence_jeu_A(5)"
   ]
  }
 ],
 "metadata": {
  "kernelspec": {
   "display_name": "Python 3 (ipykernel)",
   "language": "python",
   "name": "python3"
  },
  "language_info": {
   "codemirror_mode": {
    "name": "ipython",
    "version": 3
   },
   "file_extension": ".py",
   "mimetype": "text/x-python",
   "name": "python",
   "nbconvert_exporter": "python",
   "pygments_lexer": "ipython3",
   "version": "3.9.7"
  }
 },
 "nbformat": 4,
 "nbformat_minor": 5
}
